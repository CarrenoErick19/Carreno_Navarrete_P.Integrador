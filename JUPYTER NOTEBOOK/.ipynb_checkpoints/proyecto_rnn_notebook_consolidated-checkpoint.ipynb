{
 "cells": [
  {
   "cell_type": "markdown",
   "id": "2e49195c",
   "metadata": {},
   "source": [
    "\n",
    "# Proyecto de Análisis y Modelado con RNN\n",
    "\n",
    "Este notebook contiene el código completo de un proyecto de análisis de sentimientos y modelado de redes neuronales recurrentes (RNN). El código está organizado en diferentes secciones, cada una correspondiente a una funcionalidad específica del proyecto original.\n",
    "\n",
    "## Secciones del Notebook\n",
    "\n",
    "1. Análisis de Sentimientos\n",
    "2. Comparación\n",
    "3. Identificación de Temas\n",
    "4. Visualización\n",
    "5. Limpieza de Datos\n",
    "6. División de Datos\n",
    "7. Definición del Modelo RNN\n",
    "8. Entrenamiento del Modelo RNN\n",
    "9. Evaluación del Modelo RNN\n",
    "10. Ejecución Principal\n"
   ]
  },
  {
   "cell_type": "code",
   "execution_count": null,
   "id": "9bd1bc95",
   "metadata": {},
   "outputs": [],
   "source": [
    "\n",
    "import sys\n",
    "import os\n",
    "\n",
    "# Ajusta la ruta a la carpeta raíz de tu proyecto\n",
    "project_path = os.getcwd()\n",
    "sys.path.append(project_path)\n",
    "\n",
    "# Verifica que la ruta se añadió correctamente y lista el contenido del directorio\n",
    "print(sys.path)\n",
    "print(os.listdir(project_path))\n"
   ]
  },
  {
   "cell_type": "markdown",
   "id": "0dfdc07a",
   "metadata": {},
   "source": [
    "# SECCION 1 ANALISIS DE SENTIMIENTOS"
   ]
  },
  {
   "cell_type": "markdown",
   "id": "11a4c9a1",
   "metadata": {},
   "source": [
    "\n",
    "# Proyecto de Análisis y Modelado con RNN\n",
    "\n",
    "Este notebook contiene el código completo de un proyecto de análisis de sentimientos y modelado de redes neuronales recurrentes (RNN). El código está organizado en diferentes secciones, cada una correspondiente a un archivo específico del proyecto original.\n",
    "\n",
    "## Secciones del Notebook\n",
    "\n",
    "1. Análisis de Sentimientos\n",
    "2. Comparación\n",
    "3. Identificación de Temas\n",
    "4. Visualización\n",
    "5. Limpieza de Datos\n",
    "6. División de Datos\n",
    "7. Definición del Modelo RNN\n",
    "8. Entrenamiento del Modelo RNN\n",
    "9. Evaluación del Modelo RNN\n",
    "10. Ejecución Principal (`main.py`)\n",
    "\n",
    "Cada sección contiene el código y las explicaciones necesarias para comprender y ejecutar el proyecto.\n"
   ]
  },
  {
   "cell_type": "markdown",
   "id": "6638afe1",
   "metadata": {},
   "source": [
    "# SECCION 2 COMPARACION"
   ]
  },
  {
   "cell_type": "markdown",
   "id": "57dae84c",
   "metadata": {},
   "source": [
    "# SECCION 1 ANALISIS DE SENTIMIENTOS"
   ]
  },
  {
   "cell_type": "markdown",
   "id": "46cd6ab0",
   "metadata": {},
   "source": [
    "# SECCION 3 IDENTIFICACION DE TEMAS"
   ]
  },
  {
   "cell_type": "code",
   "execution_count": 1,
   "id": "612c1248",
   "metadata": {},
   "outputs": [],
   "source": [
    "import pandas as pd\n",
    "from textblob import TextBlob\n",
    "from vaderSentiment.vaderSentiment import SentimentIntensityAnalyzer\n",
    "\n",
    "# Inicializar el analizador de sentimientos de VADER\n",
    "analyzer = SentimentIntensityAnalyzer()\n",
    "\n",
    "# Diccionario de emociones para clasificar\n",
    "sentimientos = {\n",
    "    'alegría': 0, \n",
    "    'enojo': 1, \n",
    "    'tristeza': 2, \n",
    "    'satisfacción': 3, \n",
    "    'insatisfacción': 4\n",
    "}\n",
    "\n",
    "# Palabras clave y frases específicas del dialecto ecuatoriano para emociones negativas\n",
    "palabras_clave_negativas = [\n",
    "    'sinvergüenza', 'charlatán', 'mañoso', 'corrupto', 'inútil', 'maldito', 'ladrón', 'hipócrita',\n",
    "    'vergonzoso', 'mentiroso', 'desgraciado', 'canalla', 'ratero'\n",
    "]\n",
    "\n",
    "# Función para clasificar el sentimiento basado en el análisis de VADER y palabras clave específicas\n",
    "def clasificar_sentimiento(comentario):\n",
    "    analisis = TextBlob(comentario)\n",
    "    vader_result = analyzer.polarity_scores(comentario)\n",
    "    \n",
    "    # Clasificación basada en el análisis de VADER\n",
    "    if vader_result['compound'] >= 0.5:\n",
    "        return 'alegría'\n",
    "    elif vader_result['compound'] >= 0.1:\n",
    "        return 'satisfacción'\n",
    "    elif vader_result['compound'] <= -0.5:\n",
    "        return 'enojo'\n",
    "    elif vader_result['compound'] <= -0.1:\n",
    "        return 'tristeza'\n",
    "    \n",
    "    # Clasificación adicional basada en palabras clave específicas\n",
    "    for palabra in palabras_clave_negativas:\n",
    "        if palabra in comentario:\n",
    "            return 'enojo'\n",
    "    \n",
    "    return 'insatisfacción'\n",
    "\n",
    "def analizar_sentimientos(df):\n",
    "    emociones = {'alegría': [], 'enojo': [], 'tristeza': [], 'satisfacción': [], 'insatisfacción': []}\n",
    "    \n",
    "    aspectos = []\n",
    "    sentim = []\n",
    "\n",
    "    for index, row in df.iterrows():\n",
    "        comentario = row['comment_limpio']\n",
    "        sentimiento = clasificar_sentimiento(comentario)\n",
    "        emociones[sentimiento].append(comentario)\n",
    "        aspectos.append('positivo' if sentimiento in ['alegría', 'satisfacción'] else 'negativo' if sentimiento in ['enojo', 'tristeza'] else 'neutral')\n",
    "        sentim.append(sentimiento)\n",
    "    \n",
    "    df['aspecto'] = aspectos\n",
    "    df['sentimiento'] = sentim\n",
    "    df['sentimiento_label'] = df['sentimiento'].map(sentimientos)\n",
    "    \n",
    "    return df, emociones\n"
   ]
  },
  {
   "cell_type": "markdown",
   "id": "da1bed70",
   "metadata": {},
   "source": [
    "# SECCION 4 VISUALIZACION"
   ]
  },
  {
   "cell_type": "markdown",
   "id": "f5ab782e",
   "metadata": {},
   "source": [
    "# SECCION 2 COMPARACION"
   ]
  },
  {
   "cell_type": "markdown",
   "id": "0fd8b1ba",
   "metadata": {},
   "source": [
    "# SECCION 5 LIMPIEZA DE DATOS"
   ]
  },
  {
   "cell_type": "code",
   "execution_count": 2,
   "id": "ab79596a",
   "metadata": {},
   "outputs": [],
   "source": [
    "import pandas as pd\n",
    "\n",
    "def comparar_aspectos(df):\n",
    "    # Implementación de la función para comparar aspectos\n",
    "    pass  # Reemplaza con la lógica real\n"
   ]
  },
  {
   "cell_type": "markdown",
   "id": "6cb579e0",
   "metadata": {},
   "source": [
    "# SECCION 6 DIVISION DE DATOS"
   ]
  },
  {
   "cell_type": "markdown",
   "id": "873d2dd5",
   "metadata": {},
   "source": [
    "# SECCION 3 IDENTIFICACION DE TEMAS"
   ]
  },
  {
   "cell_type": "markdown",
   "id": "0f41c7b7",
   "metadata": {},
   "source": [
    "# SECCION 7 DEFINICION DEL MODELO RNN"
   ]
  },
  {
   "cell_type": "code",
   "execution_count": 3,
   "id": "244effd8",
   "metadata": {},
   "outputs": [],
   "source": [
    "import pandas as pd\n",
    "\n",
    "def identificar_temas(df):\n",
    "    # Aquí va la lógica para identificar temas\n",
    "    # Por ahora, simplemente devolvamos una lista vacía como ejemplo\n",
    "    temas = []\n",
    "    return temas\n"
   ]
  },
  {
   "cell_type": "markdown",
   "id": "18e0e21b",
   "metadata": {},
   "source": [
    "# SECCION 8 ENTRENAMIENTO DEL MODELO RNN"
   ]
  },
  {
   "cell_type": "markdown",
   "id": "550fc9a2",
   "metadata": {},
   "source": [
    "# SECCION 4 VISUALIZACION"
   ]
  },
  {
   "cell_type": "markdown",
   "id": "390e3593",
   "metadata": {},
   "source": [
    "# SECCION 9 EVALUACION DEL MODELO RNN"
   ]
  },
  {
   "cell_type": "code",
   "execution_count": 4,
   "id": "fe02478d",
   "metadata": {},
   "outputs": [],
   "source": [
    "import matplotlib.pyplot as plt\n",
    "import seaborn as sns\n",
    "import pandas as pd\n",
    "from sklearn.metrics import confusion_matrix, classification_report\n",
    "\n",
    "def generar_matriz_confusion(y_true, y_pred, labels, ax):\n",
    "    cm = confusion_matrix(y_true, y_pred)\n",
    "    sns.heatmap(cm, annot=True, fmt='d', cmap='Blues', xticklabels=labels, yticklabels=labels, ax=ax)\n",
    "    ax.set_xlabel('Predicted')\n",
    "    ax.set_ylabel('True')\n",
    "    ax.set_title('Confusion Matrix')\n",
    "\n",
    "def generar_visualizaciones(df, y_true, y_pred, labels):\n",
    "    # Mapeo de los sentimientos para etiquetas comprensibles\n",
    "    sentimiento_map = {0: 'alegría', 1: 'enojo', 2: 'tristeza', 3: 'satisfacción', 4: 'insatisfacción'}\n",
    "    df['sentimiento_label'] = df['sentimiento'].map(sentimiento_map)\n",
    "\n",
    "    # Crear figura con subplots\n",
    "    fig, axes = plt.subplots(2, 2, figsize=(15, 10))\n",
    "    fig.suptitle('Análisis de Sentimientos y Aspectos', fontsize=16)\n",
    "\n",
    "    # Conteo de sentimientos\n",
    "    sns.countplot(x='sentimiento_label', data=df, palette='viridis', ax=axes[0, 0])\n",
    "    axes[0, 0].set_title('Distribución de Sentimientos')\n",
    "    axes[0, 0].set_xlabel('Sentimientos')\n",
    "    axes[0, 0].set_ylabel('Conteo')\n",
    "\n",
    "    # Evolución temporal de los sentimientos\n",
    "    df['timestamp'] = pd.to_datetime(df['timestamp'])\n",
    "    df.resample('M', on='timestamp').size().plot(ax=axes[0, 1])\n",
    "    axes[0, 1].set_title('Número de Comentarios por Mes')\n",
    "    axes[0, 1].set_xlabel('Fecha')\n",
    "    axes[0, 1].set_ylabel('Número de Comentarios')\n",
    "\n",
    "    # Análisis de temas y aspectos\n",
    "    if 'aspecto' in df.columns:\n",
    "        sns.countplot(x='aspecto', data=df, palette='coolwarm', ax=axes[1, 0])\n",
    "        axes[1, 0].set_title('Distribución de Aspectos')\n",
    "        axes[1, 0].set_xlabel('Aspectos')\n",
    "        axes[1, 0].set_ylabel('Conteo')\n",
    "\n",
    "    # Matriz de confusión\n",
    "    generar_matriz_confusion(y_true, y_pred, labels, axes[1, 1])\n",
    "\n",
    "    plt.tight_layout(rect=[0, 0, 1, 0.95])\n",
    "    plt.show()\n"
   ]
  },
  {
   "cell_type": "markdown",
   "id": "3af88b6e",
   "metadata": {},
   "source": [
    "# SECCION 10 EJECUCION PRINCIPAL"
   ]
  },
  {
   "cell_type": "markdown",
   "id": "f332fd3f",
   "metadata": {},
   "source": [
    "# SECCION 5 LIMPIEZA DE DATOS"
   ]
  }
 ],
 "metadata": {},
 "nbformat": 4,
 "nbformat_minor": 5
}
